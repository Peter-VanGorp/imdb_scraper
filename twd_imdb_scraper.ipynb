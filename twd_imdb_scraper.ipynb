{
 "cells": [
  {
   "cell_type": "code",
   "execution_count": 12,
   "id": "ee5d2eeb-0a67-4f56-8e03-c0acb2d37224",
   "metadata": {},
   "outputs": [],
   "source": [
    "from bs4 import BeautifulSoup\n",
    "import requests\n",
    "import re\n",
    "import pandas as pd\n",
    "from time import sleep\n",
    "from random import randint"
   ]
  },
  {
   "cell_type": "code",
   "execution_count": 38,
   "id": "cbc3e257-3e6d-4c06-a0e4-e729b709b61e",
   "metadata": {},
   "outputs": [],
   "source": [
    "#get html data from season 1 episode list\n",
    "\n",
    "url = 'https://www.imdb.com/title/tt1520211/episodes?season=1'\n",
    "response = requests.get(url)\n",
    "soup = BeautifulSoup(response.text, 'html.parser')\n",
    "\n",
    "episode_containers = soup.find_all('div', class_= 'info')"
   ]
  },
  {
   "cell_type": "code",
   "execution_count": 49,
   "id": "7f28fe59-938a-440a-ad60-e24d1c8b2e7b",
   "metadata": {},
   "outputs": [
    {
     "data": {
      "text/plain": [
       "'1'"
      ]
     },
     "execution_count": 49,
     "metadata": {},
     "output_type": "execute_result"
    }
   ],
   "source": [
    "episode_containers[0].a['title']\n",
    "episode_containers[0].meta['content']"
   ]
  },
  {
   "cell_type": "code",
   "execution_count": 14,
   "id": "cc879482-3c9d-42c4-a008-173f24708643",
   "metadata": {},
   "outputs": [],
   "source": [
    "#let's get episode data here\n",
    "#NOTE: consider adding random sleep to not put unnecessary load/ get ip blocked by imdb\n",
    "\n",
    "# What are we looking to extract?\n",
    "# basic structure as follows:\n",
    "#     loop through season lists (manual range)\n",
    "#     grab episode container for each episode\n",
    "#     for each episode container:\n",
    "#         season\n",
    "#         episode_number\n",
    "#         title\n",
    "#         airdate\n",
    "#         rating\n",
    "#         total_votes\n",
    "#         desc\n",
    "\n",
    "#what do I eventually want?\n",
    "# Dashboard with:\n",
    "#     individual episode scores\n",
    "#     timeline of characters (colour scale for screen time? or rating?)\n",
    "    \n"
   ]
  },
  {
   "cell_type": "code",
   "execution_count": 22,
   "id": "2dfe0a09-44c6-431f-b089-f579cde12c5b",
   "metadata": {},
   "outputs": [],
   "source": [
    "#looks like we can grab episode list for top characters from main page\n",
    "#NOTE: imdb denies request (403 error) without user-agent header. If it still denies, consider adding referrer header as well.\n",
    "\n",
    "#character episode data is behind a button toggle. Either use Selenium or do manually\n",
    "\n",
    "main_page_url = 'https://www.imdb.com/title/tt1520211/'\n",
    "headers = {'user-agent': 'Mozilla/5.0 (Windows NT 10.0; Win64; x64) AppleWebKit/537.36 (KHTML, like Gecko) Chrome/112.0.0.0 Safari/537.36'}\n",
    "main_page = requests.get(main_page_url, headers=headers)\n",
    "main_page_soup = BeautifulSoup(main_page.text, 'html.parser')"
   ]
  },
  {
   "cell_type": "code",
   "execution_count": 36,
   "id": "18c16021-27bd-4f25-a831-4a671f1b6cd3",
   "metadata": {},
   "outputs": [],
   "source": [
    "episodes_per_person = main_page_soup.find_all('div', attrs={'data-testid' : 'series-credits-bottomsheet__data'})"
   ]
  },
  {
   "cell_type": "code",
   "execution_count": 46,
   "id": "0b0bcf32-ac33-4a66-ac3b-4578dcbbaa16",
   "metadata": {},
   "outputs": [],
   "source": [
    "button_list = main_page_soup.find_all('button', class_='title-cast-item__eps-toggle__small')"
   ]
  },
  {
   "cell_type": "code",
   "execution_count": null,
   "id": "3ceb23b3-d0e0-4cc0-8150-d0c9590a6ef7",
   "metadata": {},
   "outputs": [],
   "source": []
  },
  {
   "cell_type": "code",
   "execution_count": null,
   "id": "71e645b4-03a0-43e0-aab2-89666a23d0ef",
   "metadata": {},
   "outputs": [],
   "source": []
  }
 ],
 "metadata": {
  "kernelspec": {
   "display_name": "Python 3 (ipykernel)",
   "language": "python",
   "name": "python3"
  },
  "language_info": {
   "codemirror_mode": {
    "name": "ipython",
    "version": 3
   },
   "file_extension": ".py",
   "mimetype": "text/x-python",
   "name": "python",
   "nbconvert_exporter": "python",
   "pygments_lexer": "ipython3",
   "version": "3.8.10"
  }
 },
 "nbformat": 4,
 "nbformat_minor": 5
}
